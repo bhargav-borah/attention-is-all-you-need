{
  "nbformat": 4,
  "nbformat_minor": 0,
  "metadata": {
    "colab": {
      "provenance": [],
      "gpuType": "T4"
    },
    "kernelspec": {
      "name": "python3",
      "display_name": "Python 3"
    },
    "language_info": {
      "name": "python"
    },
    "accelerator": "GPU"
  },
  "cells": [
    {
      "cell_type": "code",
      "source": [
        "from google.colab import drive\n",
        "drive.mount('/content/drive')"
      ],
      "metadata": {
        "colab": {
          "base_uri": "https://localhost:8080/"
        },
        "id": "-5NDH9tlBTpo",
        "outputId": "cd6794cb-13cd-423e-fd12-6be30429427b"
      },
      "execution_count": 1,
      "outputs": [
        {
          "output_type": "stream",
          "name": "stdout",
          "text": [
            "Mounted at /content/drive\n"
          ]
        }
      ]
    },
    {
      "cell_type": "code",
      "source": [
        "!pip install tiktoken"
      ],
      "metadata": {
        "colab": {
          "base_uri": "https://localhost:8080/"
        },
        "id": "stfKoAxWBU5v",
        "outputId": "eb98d91c-f83e-4e65-a55f-138811c8b799"
      },
      "execution_count": 2,
      "outputs": [
        {
          "output_type": "stream",
          "name": "stdout",
          "text": [
            "Requirement already satisfied: tiktoken in /usr/local/lib/python3.11/dist-packages (0.9.0)\n",
            "Requirement already satisfied: regex>=2022.1.18 in /usr/local/lib/python3.11/dist-packages (from tiktoken) (2024.11.6)\n",
            "Requirement already satisfied: requests>=2.26.0 in /usr/local/lib/python3.11/dist-packages (from tiktoken) (2.32.3)\n",
            "Requirement already satisfied: charset-normalizer<4,>=2 in /usr/local/lib/python3.11/dist-packages (from requests>=2.26.0->tiktoken) (3.4.2)\n",
            "Requirement already satisfied: idna<4,>=2.5 in /usr/local/lib/python3.11/dist-packages (from requests>=2.26.0->tiktoken) (3.10)\n",
            "Requirement already satisfied: urllib3<3,>=1.21.1 in /usr/local/lib/python3.11/dist-packages (from requests>=2.26.0->tiktoken) (2.4.0)\n",
            "Requirement already satisfied: certifi>=2017.4.17 in /usr/local/lib/python3.11/dist-packages (from requests>=2.26.0->tiktoken) (2025.4.26)\n"
          ]
        }
      ]
    },
    {
      "cell_type": "code",
      "source": [
        "import torch\n",
        "import torch.nn as nn\n",
        "from torch.utils.data import Dataset, DataLoader\n",
        "import os\n",
        "import math\n",
        "import tiktoken\n",
        "import pandas as pd\n",
        "import numpy as np\n",
        "import matplotlib.pyplot as plt\n",
        "from nltk.translate.bleu_score import sentence_bleu, SmoothingFunction"
      ],
      "metadata": {
        "id": "5j9laf5QDZbR"
      },
      "execution_count": 3,
      "outputs": []
    },
    {
      "cell_type": "code",
      "source": [
        "class CFG:\n",
        "    eng2de = {\n",
        "        'train': '/content/drive/MyDrive/wmt-2014-en2de/wmt14_translate_de-en_train.csv',\n",
        "        'test': '/content/drive/MyDrive/wmt-2014-en2de/wmt14_translate_de-en_test.csv',\n",
        "        'val': '/content/drive/MyDrive/wmt-2014-en2de/wmt14_translate_de-en_validation.csv'\n",
        "    }\n",
        "    max_seq_len = 50\n",
        "    batch_size = 64\n",
        "    encoding_scheme = 'cl100k_base'"
      ],
      "metadata": {
        "id": "gBt8Nym8DbUk"
      },
      "execution_count": 4,
      "outputs": []
    },
    {
      "cell_type": "code",
      "source": [
        "def load_data(dataset='eng2de', cfg=CFG):\n",
        "    nrows = 18000\n",
        "    train = pd.read_csv(cfg.eng2de['train'], lineterminator='\\n', nrows=nrows)\n",
        "    test = pd.read_csv(cfg.eng2de['test'], lineterminator='\\n', nrows=nrows)\n",
        "    val = pd.read_csv(cfg.eng2de['val'], lineterminator='\\n', nrows=nrows)\n",
        "    return train, val, test\n",
        "\n",
        "train, test, val = load_data()"
      ],
      "metadata": {
        "id": "EDFA_UWPDc9a"
      },
      "execution_count": 5,
      "outputs": []
    },
    {
      "cell_type": "code",
      "source": [
        "class Tokenizer:\n",
        "    def __init__(self, encoding_scheme='cl100k_base', max_len=None):\n",
        "        self.tokenizer = tiktoken.get_encoding(encoding_scheme)\n",
        "        self.sos_token = '<sos>'\n",
        "        self.eos_token = '<eos>'\n",
        "        self.pad_token = '<pad>'\n",
        "        n_vocab = self.vocab_size\n",
        "        self.special_tokens = {\n",
        "            self.sos_token: n_vocab,\n",
        "            self.eos_token: n_vocab + 1,\n",
        "            self.pad_token: n_vocab + 2\n",
        "        }\n",
        "        self.max_len = max_len\n",
        "\n",
        "    def encode(self, text, add_sos=True, add_eos=True):\n",
        "        token_ids = self.tokenizer.encode(text, allowed_special='all')\n",
        "        if add_sos:\n",
        "            token_ids = [self.special_tokens[self.sos_token]] + token_ids\n",
        "        if add_eos:\n",
        "            token_ids = token_ids + [self.special_tokens[self.eos_token]]\n",
        "\n",
        "        if self.max_len is not None:\n",
        "            if len(token_ids) > self.max_len:\n",
        "                token_ids = token_ids[:self.max_len]\n",
        "                if add_eos:\n",
        "                    token_ids[-1] = self.special_tokens[self.eos_token]\n",
        "            elif len(token_ids) < self.max_len:\n",
        "                token_ids = token_ids + [self.special_tokens[self.pad_token]] * (self.max_len - len(token_ids))\n",
        "        return token_ids\n",
        "\n",
        "    def decode(self, token_ids):\n",
        "        token_ids = [id_ for id_ in token_ids if id_ not in self.special_tokens.values()]\n",
        "        text = self.tokenizer.decode(token_ids)\n",
        "        return text\n",
        "\n",
        "    @property\n",
        "    def vocab_size(self):\n",
        "        return self.tokenizer.n_vocab"
      ],
      "metadata": {
        "id": "x7h9t57zDiSK"
      },
      "execution_count": 6,
      "outputs": []
    },
    {
      "cell_type": "code",
      "source": [
        "class WMT2014EnglishToGermanData(Dataset):\n",
        "    def __init__(self, df, tokenizer=Tokenizer, max_seq_len=50):\n",
        "        self.data = df.dropna(subset=['en', 'de']).reset_index(drop=True)\n",
        "        self.max_seq_len = max_seq_len\n",
        "        self.tokenizer = Tokenizer(max_len=self.max_seq_len)\n",
        "\n",
        "    def __len__(self):\n",
        "        return len(self.data)\n",
        "\n",
        "    def __getitem__(self, idx):\n",
        "        src_text = self.data.iloc[idx]['en']\n",
        "        tgt_text = self.data.iloc[idx]['de']\n",
        "        src_ids = self.tokenizer.encode(src_text, add_sos=False, add_eos=True)\n",
        "        target_ids = self.tokenizer.encode(tgt_text, add_sos=False, add_eos=True)\n",
        "        decoder_input_ids = self.tokenizer.encode(tgt_text, add_sos=True, add_eos=False)\n",
        "        if len(decoder_input_ids) > self.max_seq_len:\n",
        "            decoder_input_ids = decoder_input_ids[:self.max_seq_len]\n",
        "        elif len(decoder_input_ids) < self.max_seq_len:\n",
        "            decoder_input_ids = decoder_input_ids + [self.tokenizer.special_tokens[self.tokenizer.pad_token]] * (self.max_seq_len - len(decoder_input_ids))\n",
        "        return {\n",
        "            'source_ids': torch.tensor(src_ids, dtype=torch.long),\n",
        "            'decoder_input_ids': torch.tensor(decoder_input_ids, dtype=torch.long),\n",
        "            'target_ids': torch.tensor(target_ids, dtype=torch.long)\n",
        "        }"
      ],
      "metadata": {
        "id": "fQE3xTPLDm_P"
      },
      "execution_count": 7,
      "outputs": []
    },
    {
      "cell_type": "code",
      "execution_count": 8,
      "metadata": {
        "id": "ttO5qYoIBJWe"
      },
      "outputs": [],
      "source": [
        "tokenizer = Tokenizer(max_len=50)\n",
        "\n",
        "train_dataset = WMT2014EnglishToGermanData(train, tokenizer)\n",
        "val_dataset = WMT2014EnglishToGermanData(val, tokenizer)\n",
        "test_dataset = WMT2014EnglishToGermanData(test, tokenizer)\n",
        "\n",
        "train_dl = DataLoader(\n",
        "    train_dataset, batch_size=CFG.batch_size, shuffle=True, num_workers=os.cpu_count(), pin_memory=True)\n",
        "val_dl = DataLoader(\n",
        "    val_dataset, batch_size=CFG.batch_size, shuffle=False, num_workers=os.cpu_count(), pin_memory=True)\n",
        "test_dl = DataLoader(\n",
        "    test_dataset, batch_size=CFG.batch_size, shuffle=False, num_workers=os.cpu_count(), pin_memory=True)"
      ]
    },
    {
      "cell_type": "code",
      "source": [
        "class MultiHeadAttention(nn.Module):\n",
        "    def __init__(self, seq_len, d_model, hidden_dim, num_heads=8, causal=False, dropout=0.1):\n",
        "        super(MultiHeadAttention, self).__init__()\n",
        "        assert hidden_dim % num_heads == 0, 'hidden_dim should be divisible by num_heads'\n",
        "        self.num_heads = num_heads\n",
        "        self.hidden_dim = hidden_dim\n",
        "        self.head_dim = hidden_dim // num_heads\n",
        "        self.seq_len = seq_len\n",
        "        self.causal = causal\n",
        "        self.dropout = nn.Dropout(dropout)\n",
        "        self.W_q = nn.Linear(d_model, hidden_dim)\n",
        "        self.W_k = nn.Linear(d_model, hidden_dim)\n",
        "        self.W_v = nn.Linear(d_model, hidden_dim)\n",
        "        self.W_o = nn.Linear(hidden_dim, d_model)\n",
        "        self.register_buffer('causal_mask', torch.triu(torch.ones(seq_len, seq_len), diagonal=1).bool() if causal else None)\n",
        "        nn.init.xavier_uniform_(self.W_q.weight)\n",
        "        nn.init.xavier_uniform_(self.W_k.weight)\n",
        "        nn.init.xavier_uniform_(self.W_v.weight)\n",
        "        nn.init.xavier_uniform_(self.W_o.weight)\n",
        "\n",
        "    def forward(self, q, k, v, padding_mask=None):\n",
        "        Q = self.W_q(q)\n",
        "        K = self.W_k(k)\n",
        "        V = self.W_v(v)\n",
        "        Q = Q.view(Q.size(0), Q.size(1), self.num_heads, self.head_dim).transpose(1, 2)\n",
        "        K = K.view(K.size(0), K.size(1), self.num_heads, self.head_dim).transpose(1, 2)\n",
        "        V = V.view(V.size(0), V.size(1), self.num_heads, self.head_dim).transpose(1, 2)\n",
        "        scores = torch.matmul(Q, K.transpose(-2, -1)) / (self.head_dim ** 0.5)\n",
        "\n",
        "        if self.causal:\n",
        "            scores = scores.masked_fill(self.causal_mask, float('-inf'))\n",
        "        if padding_mask is not None:\n",
        "            padding_mask = padding_mask.unsqueeze(1).unsqueeze(2)\n",
        "            scores = scores.masked_fill(padding_mask, float('-inf'))\n",
        "\n",
        "        attn_weights = torch.softmax(scores, dim=-1)\n",
        "        attn_weights = self.dropout(attn_weights)\n",
        "        attn_output = torch.matmul(attn_weights, V)\n",
        "        attn_output = attn_output.transpose(1, 2).contiguous().view(q.size(0), q.size(1), -1)\n",
        "        attn_output = self.W_o(attn_output)\n",
        "        return attn_output\n",
        "\n",
        "class FeedForwardNetwork(nn.Module):\n",
        "    def __init__(self, d_model, proj_dim, dropout=0.1):\n",
        "        super(FeedForwardNetwork, self).__init__()\n",
        "        self.linear1 = nn.Linear(d_model, proj_dim)\n",
        "        self.relu = nn.ReLU()\n",
        "        self.dropout = nn.Dropout(dropout)\n",
        "        self.linear2 = nn.Linear(proj_dim, d_model)\n",
        "        nn.init.xavier_uniform_(self.linear1.weight)\n",
        "        nn.init.xavier_uniform_(self.linear2.weight)\n",
        "\n",
        "    def forward(self, x):\n",
        "        x = self.linear1(x)\n",
        "        x = self.relu(x)\n",
        "        x = self.dropout(x)\n",
        "        x = self.linear2(x)\n",
        "        return x\n",
        "\n",
        "class Encoder(nn.Module):\n",
        "    def __init__(self, seq_len, d_model, hidden_dim, proj_dim, dropout=0.1):\n",
        "        super(Encoder, self).__init__()\n",
        "        self.d_model = d_model\n",
        "        self.norm1 = nn.LayerNorm(d_model)\n",
        "        self.norm2 = nn.LayerNorm(d_model)\n",
        "        self.mha = MultiHeadAttention(seq_len=seq_len, d_model=d_model, hidden_dim=hidden_dim, causal=False)\n",
        "        self.ffn = FeedForwardNetwork(d_model=d_model, proj_dim=proj_dim)\n",
        "        self.dropout = nn.Dropout(dropout)\n",
        "\n",
        "    def forward(self, x, padding_mask=None):\n",
        "        x = self.dropout(x)\n",
        "        x = self.norm1(self.mha(q=x, k=x, v=x, padding_mask=padding_mask) + x)\n",
        "        x = self.norm2(self.ffn(x) + x)\n",
        "        return x\n",
        "\n",
        "class Decoder(nn.Module):\n",
        "    def __init__(self, seq_len, d_model, hidden_dim, proj_dim, dropout=0.1):\n",
        "        super(Decoder, self).__init__()\n",
        "        self.d_model = d_model\n",
        "        self.norm1 = nn.LayerNorm(d_model)\n",
        "        self.norm2 = nn.LayerNorm(d_model)\n",
        "        self.norm3 = nn.LayerNorm(d_model)\n",
        "        self.mha1 = MultiHeadAttention(seq_len=seq_len, d_model=d_model, hidden_dim=hidden_dim, causal=True, dropout=dropout)\n",
        "        self.mha2 = MultiHeadAttention(seq_len=seq_len, d_model=d_model, hidden_dim=hidden_dim, causal=False, dropout=dropout)\n",
        "        self.ffn = FeedForwardNetwork(d_model=d_model, proj_dim=proj_dim, dropout=dropout)\n",
        "        self.dropout = nn.Dropout(dropout)\n",
        "\n",
        "    def forward(self, x, enc_output, src_padding_mask=None, tgt_padding_mask=None):\n",
        "        x = self.dropout(x)\n",
        "        x = self.norm1(self.mha1(q=x, k=x, v=x, padding_mask=tgt_padding_mask) + x)\n",
        "        x = self.norm2(self.mha2(q=x, k=enc_output, v=enc_output, padding_mask=src_padding_mask) + x)\n",
        "        x = self.norm3(self.ffn(x) + x)\n",
        "        return x\n"
      ],
      "metadata": {
        "id": "UdcKgB6VDWUq"
      },
      "execution_count": 9,
      "outputs": []
    },
    {
      "cell_type": "code",
      "source": [
        "class Transformer(nn.Module):\n",
        "    def __init__(self, vocab_size, seq_len=50, d_model=512, hidden_dim=512, proj_dim=2048, num_encoders=6, num_decoders=6):\n",
        "        super(Transformer, self).__init__()\n",
        "        self.seq_len = seq_len\n",
        "        self.d_model = d_model\n",
        "        self.vocab_size = vocab_size + 3\n",
        "        self.token_embeddings = nn.Embedding(self.vocab_size, self.d_model)\n",
        "        self.position_embeddings = self.get_sinusoidal_position_embeddings()\n",
        "        self.encoders = nn.ModuleList([Encoder(seq_len=seq_len, d_model=d_model, hidden_dim=hidden_dim, proj_dim=proj_dim) for _ in range(num_encoders)])\n",
        "        self.decoders = nn.ModuleList([Decoder(seq_len=seq_len, d_model=d_model, hidden_dim=hidden_dim, proj_dim=proj_dim) for _ in range(num_decoders)])\n",
        "        self.W_o = nn.Linear(d_model, self.vocab_size)\n",
        "\n",
        "    def forward(self, encoder_input, decoder_input, src_padding_mask=None, tgt_padding_mask=None):\n",
        "        encoder_input_embeddings = self.token_embeddings(encoder_input) + self.position_embeddings.to(encoder_input.device)\n",
        "        decoder_input_embeddings = self.token_embeddings(decoder_input) + self.position_embeddings.to(decoder_input.device)\n",
        "        encoder_output = encoder_input_embeddings\n",
        "        for encoder in self.encoders:\n",
        "            encoder_output = encoder(encoder_output, padding_mask=src_padding_mask)\n",
        "        decoder_output = decoder_input_embeddings\n",
        "        for decoder in self.decoders:\n",
        "            decoder_output = decoder(decoder_output, encoder_output, src_padding_mask=src_padding_mask, tgt_padding_mask=tgt_padding_mask)\n",
        "        output_logits = self.W_o(decoder_output)\n",
        "        return output_logits\n",
        "\n",
        "    def get_sinusoidal_position_embeddings(self):\n",
        "        pe = torch.zeros(self.seq_len, self.d_model)\n",
        "        position = torch.arange(0, self.seq_len).unsqueeze(dim=1)\n",
        "        div_term = torch.exp(torch.arange(0, self.d_model, 2) * (-math.log(10000.0) / self.d_model))\n",
        "        pe[:, ::2] = torch.sin(position * div_term)\n",
        "        pe[:, 1::2] = torch.cos(position * div_term)\n",
        "        return pe\n"
      ],
      "metadata": {
        "id": "520A2ypyDOZY"
      },
      "execution_count": 10,
      "outputs": []
    },
    {
      "cell_type": "code",
      "source": [
        "def calculate_bleu(pred_ids, target_ids, tokenizer):\n",
        "    bleu_scores = []\n",
        "    smoothie = SmoothingFunction().method4\n",
        "    for pred, tgt in zip(pred_ids, target_ids):\n",
        "        pred_text = tokenizer.decode(pred.tolist())\n",
        "        tgt_text = tokenizer.decode(tgt.tolist())\n",
        "        pred_tokens = pred_text.split()\n",
        "        tgt_tokens = tgt_text.split()\n",
        "        if len(pred_tokens) == 0 or len(tgt_tokens) == 0:\n",
        "            continue\n",
        "        bleu = sentence_bleu([tgt_tokens], pred_tokens, smoothing_function=smoothie)\n",
        "        bleu_scores.append(bleu)\n",
        "    return np.mean(bleu_scores) if bleu_scores else 0.0"
      ],
      "metadata": {
        "id": "FafNzP37DHxP"
      },
      "execution_count": 11,
      "outputs": []
    },
    {
      "cell_type": "code",
      "source": [
        "def train_model(model, train_dl, val_dl, tokenizer, epochs=10, lr=0.0001, device='cuda' if torch.cuda.is_available() else 'cpu'):\n",
        "    model = model.to(device)\n",
        "    optimizer = torch.optim.Adam(model.parameters(), lr=lr)\n",
        "    criterion = nn.CrossEntropyLoss(ignore_index=tokenizer.special_tokens[tokenizer.pad_token])\n",
        "\n",
        "    train_losses, val_losses = [], []\n",
        "    train_perplexities, val_perplexities = [], []\n",
        "    train_bleus, val_bleus = [], []\n",
        "\n",
        "    for epoch in range(epochs):\n",
        "        model.train()\n",
        "        total_loss, total_bleu, total_tokens = 0, 0, 0\n",
        "        for batch in train_dl:\n",
        "            optimizer.zero_grad()\n",
        "            src_ids = batch['source_ids'].to(device)\n",
        "            dec_input_ids = batch['decoder_input_ids'].to(device)\n",
        "            tgt_ids = batch['target_ids'].to(device)\n",
        "\n",
        "            src_padding_mask = (src_ids == tokenizer.special_tokens[tokenizer.pad_token]).to(device)\n",
        "            tgt_padding_mask = (dec_input_ids == tokenizer.special_tokens[tokenizer.pad_token]).to(device)\n",
        "\n",
        "            outputs = model(src_ids, dec_input_ids, src_padding_mask=src_padding_mask, tgt_padding_mask=tgt_padding_mask)\n",
        "            loss = criterion(outputs.view(-1, model.vocab_size), tgt_ids.view(-1))\n",
        "\n",
        "            loss.backward()\n",
        "            optimizer.step()\n",
        "\n",
        "            non_pad_mask = (tgt_ids != tokenizer.special_tokens[tokenizer.pad_token]).float()\n",
        "            num_tokens = non_pad_mask.sum().item()\n",
        "            total_loss += loss.item() * num_tokens\n",
        "            total_tokens += num_tokens\n",
        "\n",
        "            pred_ids = torch.argmax(outputs, dim=-1)\n",
        "            bleu = calculate_bleu(pred_ids.cpu(), tgt_ids.cpu(), tokenizer)\n",
        "            total_bleu += bleu * num_tokens\n",
        "\n",
        "        avg_train_loss = total_loss / total_tokens\n",
        "        avg_train_perplexity = math.exp(avg_train_loss)\n",
        "        avg_train_bleu = total_bleu / total_tokens\n",
        "\n",
        "        model.eval()\n",
        "        total_val_loss, total_val_bleu, total_val_tokens = 0, 0, 0\n",
        "        with torch.no_grad():\n",
        "            for batch in val_dl:\n",
        "                src_ids = batch['source_ids'].to(device)\n",
        "                dec_input_ids = batch['decoder_input_ids'].to(device)\n",
        "                tgt_ids = batch['target_ids'].to(device)\n",
        "\n",
        "                src_padding_mask = (src_ids == tokenizer.special_tokens[tokenizer.pad_token]).to(device)\n",
        "                tgt_padding_mask = (dec_input_ids == tokenizer.special_tokens[tokenizer.pad_token]).to(device)\n",
        "\n",
        "                outputs = model(src_ids, dec_input_ids, src_padding_mask=src_padding_mask, tgt_padding_mask=tgt_padding_mask)\n",
        "                loss = criterion(outputs.view(-1, model.vocab_size), tgt_ids.view(-1))\n",
        "\n",
        "                non_pad_mask = (tgt_ids != tokenizer.special_tokens[tokenizer.pad_token]).float()\n",
        "                num_tokens = non_pad_mask.sum().item()\n",
        "                total_val_loss += loss.item() * num_tokens\n",
        "                total_val_tokens += num_tokens\n",
        "\n",
        "                pred_ids = torch.argmax(outputs, dim=-1)\n",
        "                bleu = calculate_bleu(pred_ids.cpu(), tgt_ids.cpu(), tokenizer)\n",
        "                total_val_bleu += bleu * num_tokens\n",
        "\n",
        "        avg_val_loss = total_val_loss / total_val_tokens\n",
        "        avg_val_perplexity = math.exp(avg_val_loss)\n",
        "        avg_val_bleu = total_val_bleu / total_val_tokens\n",
        "\n",
        "        train_losses.append(avg_train_loss)\n",
        "        val_losses.append(avg_val_loss)\n",
        "        train_perplexities.append(avg_train_perplexity)\n",
        "        val_perplexities.append(avg_val_perplexity)\n",
        "        train_bleus.append(avg_train_bleu)\n",
        "        val_bleus.append(avg_val_bleu)\n",
        "\n",
        "        print(f'Epoch {epoch+1}/{epochs}:')\n",
        "        print(f'Train Loss: {avg_train_loss:.4f}, Perplexity: {avg_train_perplexity:.4f}, BLEU: {avg_train_bleu:.4f}')\n",
        "        print(f'Val Loss: {avg_val_loss:.4f}, Perplexity: {avg_val_perplexity:.4f}, BLEU: {avg_val_bleu:.4f}')\n",
        "\n",
        "    plt.figure(figsize=(12, 4))\n",
        "    plt.subplot(1, 3, 1)\n",
        "    plt.plot(train_losses, label='Train Loss')\n",
        "    plt.plot(val_losses, label='Val Loss')\n",
        "    plt.title('Loss')\n",
        "    plt.legend()\n",
        "    plt.subplot(1, 3, 2)\n",
        "    plt.plot(train_perplexities, label='Train Perplexity')\n",
        "    plt.plot(val_perplexities, label='Val Perplexity')\n",
        "    plt.title('Perplexity')\n",
        "    plt.legend()\n",
        "    plt.subplot(1, 3, 3)\n",
        "    plt.plot(train_bleus, label='Train BLEU')\n",
        "    plt.plot(val_bleus, label='Val BLEU')\n",
        "    plt.title('BLEU Score')\n",
        "    plt.legend()\n",
        "    plt.savefig('training_metrics.png')\n",
        "\n",
        "    return train_losses, val_losses, train_perplexities, val_perplexities, train_bleus, val_bleus"
      ],
      "metadata": {
        "id": "jJ3EYWEMDC91"
      },
      "execution_count": 12,
      "outputs": []
    },
    {
      "cell_type": "code",
      "source": [
        "def evaluate_model(model, test_dl, tokenizer, device='cuda' if torch.cuda.is_available() else 'cpu'):\n",
        "    model = model.to(device)\n",
        "    criterion = nn.CrossEntropyLoss(ignore_index=tokenizer.special_tokens[tokenizer.pad_token])\n",
        "    model.eval()\n",
        "    total_loss, total_bleu, total_tokens = 0, 0, 0\n",
        "\n",
        "    with torch.no_grad():\n",
        "        for batch in test_dl:\n",
        "            src_ids = batch['source_ids'].to(device)\n",
        "            dec_input_ids = batch['decoder_input_ids'].to(device)\n",
        "            tgt_ids = batch['target_ids'].to(device)\n",
        "\n",
        "            src_padding_mask = (src_ids == tokenizer.special_tokens[tokenizer.pad_token]).to(device)\n",
        "            tgt_padding_mask = (dec_input_ids == tokenizer.special_tokens[tokenizer.pad_token]).to(device)\n",
        "\n",
        "            outputs = model(src_ids, dec_input_ids, src_padding_mask=src_padding_mask, tgt_padding_mask=tgt_padding_mask)\n",
        "            loss = criterion(outputs.view(-1, model.vocab_size), tgt_ids.view(-1))\n",
        "\n",
        "            non_pad_mask = (tgt_ids != tokenizer.special_tokens[tokenizer.pad_token]).float()\n",
        "            num_tokens = non_pad_mask.sum().item()\n",
        "            total_loss += loss.item() * num_tokens\n",
        "            total_tokens += num_tokens\n",
        "\n",
        "            pred_ids = torch.argmax(outputs, dim=-1)\n",
        "            bleu = calculate_bleu(pred_ids.cpu(), tgt_ids.cpu(), tokenizer)\n",
        "            total_bleu += bleu * num_tokens\n",
        "\n",
        "    avg_loss = total_loss / total_tokens\n",
        "    avg_perplexity = math.exp(avg_loss)\n",
        "    avg_bleu = total_bleu / total_tokens\n",
        "\n",
        "    print(f'Test Loss: {avg_loss:.4f}, Perplexity: {avg_perplexity:.4f}, BLEU: {avg_bleu:.4f}')\n",
        "    return avg_loss, avg_perplexity, avg_bleu"
      ],
      "metadata": {
        "id": "Zfdb26NKC52-"
      },
      "execution_count": 13,
      "outputs": []
    },
    {
      "cell_type": "code",
      "source": [
        "tokenizer = Tokenizer(max_len=CFG.max_seq_len)\n",
        "model = Transformer(vocab_size=tokenizer.vocab_size)\n",
        "train_losses, val_losses, train_perplexities, val_perplexities, train_bleus, val_bleus = train_model(model, train_dl, val_dl, tokenizer, epochs=3)\n",
        "test_loss, test_perplexity, test_bleu = evaluate_model(model, test_dl, tokenizer)"
      ],
      "metadata": {
        "colab": {
          "base_uri": "https://localhost:8080/",
          "height": 498
        },
        "id": "0ZL94GK1BPp7",
        "outputId": "7cca2f58-9c78-46d6-f912-748bfc060074"
      },
      "execution_count": 14,
      "outputs": [
        {
          "output_type": "stream",
          "name": "stdout",
          "text": [
            "Epoch 1/3:\n",
            "Train Loss: 7.8977, Perplexity: 2691.0258, BLEU: 0.0001\n",
            "Val Loss: 7.4376, Perplexity: 1698.6071, BLEU: 0.0000\n",
            "Epoch 2/3:\n",
            "Train Loss: 7.2820, Perplexity: 1453.8991, BLEU: 0.0010\n",
            "Val Loss: 7.3987, Perplexity: 1633.8717, BLEU: 0.0005\n",
            "Epoch 3/3:\n",
            "Train Loss: 7.2104, Perplexity: 1353.4019, BLEU: 0.0011\n",
            "Val Loss: 7.4300, Perplexity: 1685.8495, BLEU: 0.0000\n",
            "Test Loss: 7.3151, Perplexity: 1502.8131, BLEU: 0.0000\n"
          ]
        },
        {
          "output_type": "display_data",
          "data": {
            "text/plain": [
              "<Figure size 1200x400 with 3 Axes>"
            ],
            "image/png": "[encoded data removed]"
          },
          "metadata": {}
        }
      ]
    }
  ]
}